{
 "cells": [
  {
   "cell_type": "code",
   "execution_count": 1,
   "metadata": {},
   "outputs": [
    {
     "name": "stdout",
     "output_type": "stream",
     "text": [
      "Hello World\n"
     ]
    }
   ],
   "source": [
    "import numpy as np\n",
    "import pandas as pd\n",
    "\n",
    "# image manipulation\n",
    "import matplotlib.image as mpimg\n",
    "\n",
    "TRAIN_DIR = '../data/train'\n",
    "TEST_DIR = '../data/test'\n",
    "\n",
    "# convert images to greyscale\n",
    "def rgb_to_gray(img):\n",
    "    '''\n",
    "    Function to convert colored images to greyscale\n",
    "    Utilizes standard coefficients for RGB to Greyscale conversion\n",
    "    '''\n",
    "    if len(img.shape) == 2:\n",
    "        return(img)\n",
    "    grayImage = np.zeros(img.shape)\n",
    "    R = img[:,:,0]*0.299\n",
    "    G = img[:,:,1]*0.587\n",
    "    B = img[:,:,2]*0.114\n",
    "    \n",
    "    grayImage = R + G + B\n",
    "    \n",
    "    return(grayImage)\n",
    "\n"
   ]
  },
  {
   "cell_type": "code",
   "execution_count": null,
   "metadata": {},
   "outputs": [],
   "source": []
  }
 ],
 "metadata": {
  "kernelspec": {
   "display_name": "Python 3",
   "language": "python",
   "name": "python3"
  },
  "language_info": {
   "codemirror_mode": {
    "name": "ipython",
    "version": 3
   },
   "file_extension": ".py",
   "mimetype": "text/x-python",
   "name": "python",
   "nbconvert_exporter": "python",
   "pygments_lexer": "ipython3",
   "version": "3.6.4"
  }
 },
 "nbformat": 4,
 "nbformat_minor": 2
}
